{
 "cells": [
  {
   "cell_type": "code",
   "execution_count": 3,
   "metadata": {},
   "outputs": [],
   "source": [
    "import os\n",
    "from pyspark.sql import SparkSession"
   ]
  },
  {
   "cell_type": "code",
   "execution_count": 4,
   "metadata": {},
   "outputs": [],
   "source": [
    "sc = (SparkSession \n",
    "         .builder\n",
    "         .appName( \"icfes\" ) \n",
    "         .getOrCreate ())"
   ]
  },
  {
   "cell_type": "code",
   "execution_count": 6,
   "metadata": {},
   "outputs": [],
   "source": [
    "df = (sc.read\n",
    "        .option(\"header\",True)\n",
    "        .option(\"inferSchema\",True)\n",
    "         .csv(\"../Saber_11__2020-2.csv\"))"
   ]
  },
  {
   "cell_type": "code",
   "execution_count": 14,
   "metadata": {},
   "outputs": [
    {
     "data": {
      "text/plain": [
       "['ESTU_TIPODOCUMENTO',\n",
       " 'ESTU_NACIONALIDAD',\n",
       " 'ESTU_GENERO',\n",
       " 'ESTU_FECHANACIMIENTO',\n",
       " 'PERIODO',\n",
       " 'ESTU_CONSECUTIVO',\n",
       " 'ESTU_ESTUDIANTE',\n",
       " 'ESTU_PAIS_RESIDE',\n",
       " 'ESTU_TIENEETNIA',\n",
       " 'ESTU_DEPTO_RESIDE',\n",
       " 'ESTU_COD_RESIDE_DEPTO',\n",
       " 'ESTU_MCPIO_RESIDE',\n",
       " 'ESTU_COD_RESIDE_MCPIO',\n",
       " 'FAMI_ESTRATOVIVIENDA',\n",
       " 'FAMI_PERSONASHOGAR',\n",
       " 'FAMI_CUARTOSHOGAR',\n",
       " 'FAMI_EDUCACIONPADRE',\n",
       " 'FAMI_EDUCACIONMADRE',\n",
       " 'FAMI_TRABAJOLABORPADRE',\n",
       " 'FAMI_TRABAJOLABORMADRE',\n",
       " 'FAMI_TIENEINTERNET',\n",
       " 'FAMI_TIENESERVICIOTV',\n",
       " 'FAMI_TIENECOMPUTADOR',\n",
       " 'FAMI_TIENELAVADORA',\n",
       " 'FAMI_TIENEHORNOMICROOGAS',\n",
       " 'FAMI_TIENEAUTOMOVIL',\n",
       " 'FAMI_TIENEMOTOCICLETA',\n",
       " 'FAMI_TIENECONSOLAVIDEOJUEGOS',\n",
       " 'FAMI_NUMLIBROS',\n",
       " 'FAMI_COMELECHEDERIVADOS',\n",
       " 'FAMI_COMECARNEPESCADOHUEVO',\n",
       " 'FAMI_COMECEREALFRUTOSLEGUMBRE',\n",
       " 'FAMI_SITUACIONECONOMICA',\n",
       " 'ESTU_DEDICACIONLECTURADIARIA',\n",
       " 'ESTU_DEDICACIONINTERNET',\n",
       " 'ESTU_HORASSEMANATRABAJA',\n",
       " 'ESTU_TIPOREMUNERACION',\n",
       " 'COLE_CODIGO_ICFES',\n",
       " 'COLE_COD_DANE_ESTABLECIMIENTO',\n",
       " 'COLE_NOMBRE_ESTABLECIMIENTO',\n",
       " 'COLE_GENERO',\n",
       " 'COLE_NATURALEZA',\n",
       " 'COLE_CALENDARIO',\n",
       " 'COLE_BILINGUE',\n",
       " 'COLE_CARACTER',\n",
       " 'COLE_COD_DANE_SEDE',\n",
       " 'COLE_NOMBRE_SEDE',\n",
       " 'COLE_SEDE_PRINCIPAL',\n",
       " 'COLE_AREA_UBICACION',\n",
       " 'COLE_JORNADA',\n",
       " 'COLE_COD_MCPIO_UBICACION',\n",
       " 'COLE_MCPIO_UBICACION',\n",
       " 'COLE_COD_DEPTO_UBICACION',\n",
       " 'COLE_DEPTO_UBICACION',\n",
       " 'ESTU_PRIVADO_LIBERTAD',\n",
       " 'ESTU_COD_MCPIO_PRESENTACION',\n",
       " 'ESTU_MCPIO_PRESENTACION',\n",
       " 'ESTU_DEPTO_PRESENTACION',\n",
       " 'ESTU_COD_DEPTO_PRESENTACION',\n",
       " 'PUNT_LECTURA_CRITICA',\n",
       " 'PERCENTIL_LECTURA_CRITICA',\n",
       " 'DESEMP_LECTURA_CRITICA',\n",
       " 'PUNT_MATEMATICAS',\n",
       " 'PERCENTIL_MATEMATICAS',\n",
       " 'DESEMP_MATEMATICAS',\n",
       " 'PUNT_C_NATURALES',\n",
       " 'PERCENTIL_C_NATURALES',\n",
       " 'DESEMP_C_NATURALES',\n",
       " 'PUNT_SOCIALES_CIUDADANAS',\n",
       " 'PERCENTIL_SOCIALES_CIUDADANAS',\n",
       " 'DESEMP_SOCIALES_CIUDADANAS',\n",
       " 'PUNT_INGLES',\n",
       " 'PERCENTIL_INGLES',\n",
       " 'DESEMP_INGLES',\n",
       " 'PUNT_GLOBAL',\n",
       " 'PERCENTIL_GLOBAL',\n",
       " 'ESTU_INSE_INDIVIDUAL',\n",
       " 'ESTU_NSE_INDIVIDUAL',\n",
       " 'ESTU_NSE_ESTABLECIMIENTO',\n",
       " 'ESTU_ESTADOINVESTIGACION',\n",
       " 'ESTU_GENERACION-E']"
      ]
     },
     "execution_count": 14,
     "metadata": {},
     "output_type": "execute_result"
    }
   ],
   "source": [
    "df.columns"
   ]
  },
  {
   "cell_type": "code",
   "execution_count": 15,
   "metadata": {},
   "outputs": [],
   "source": [
    "df.registerTempTable(\"icfesResult\")"
   ]
  },
  {
   "cell_type": "code",
   "execution_count": 32,
   "metadata": {},
   "outputs": [],
   "source": [
    "df2 = sc.sql('SELECT ESTU_DEPTO_RESIDE, COUNT(ESTU_DEPTO_RESIDE) AS TOTAL_POR_DEPTO, (COUNT(ESTU_DEPTO_RESIDE)/(SELECT COUNT(*) FROM icfesResult WHERE ESTU_DEPTO_RESIDE IS NOT NULL))*100 AS PORCENTAJE FROM icfesResult GROUP BY ESTU_DEPTO_RESIDE ORDER BY ESTU_DEPTO_RESIDE')"
   ]
  },
  {
   "cell_type": "code",
   "execution_count": 33,
   "metadata": {},
   "outputs": [],
   "source": [
    "df2.registerTempTable(\"icfesDEPTO\")"
   ]
  },
  {
   "cell_type": "code",
   "execution_count": 37,
   "metadata": {},
   "outputs": [
    {
     "name": "stdout",
     "output_type": "stream",
     "text": [
      "+-----------------+---------------+--------------------+\n",
      "|ESTU_DEPTO_RESIDE|TOTAL_POR_DEPTO|          PORCENTAJE|\n",
      "+-----------------+---------------+--------------------+\n",
      "|             null|              0|                 0.0|\n",
      "|         AMAZONAS|            638| 0.12636916433933487|\n",
      "|        ANTIOQUIA|          70478|  13.959633172895995|\n",
      "|           ARAUCA|           2989|  0.5920335928060688|\n",
      "|        ATLANTICO|          28590|   5.662843900410007|\n",
      "|           BOGOTÁ|          77344|  15.319587220472597|\n",
      "|          BOLIVAR|          24182|   4.789747855883693|\n",
      "|           BOYACA|          15258|   3.022164121457009|\n",
      "|           CALDAS|           9951|  1.9710024362707232|\n",
      "|          CAQUETA|           3868|  0.7661378176560303|\n",
      "|         CASANARE|           5501|  1.0895874185433874|\n",
      "|            CAUCA|          12504|  2.4766771644185632|\n",
      "|            CESAR|          12515|   2.478855943114069|\n",
      "|            CHOCO|           4320|  0.8556658149622676|\n",
      "|          CORDOBA|          19449|  3.8522788044447087|\n",
      "|     CUNDINAMARCA|          33656|  6.6662705250856655|\n",
      "|       EXTRANJERO|             19|0.003763345019509973|\n",
      "|          GUAINIA|            283| 0.05605403371164854|\n",
      "|         GUAVIARE|            813| 0.16103155267692673|\n",
      "|            HUILA|          12159|  2.4083427416958822|\n",
      "+-----------------+---------------+--------------------+\n",
      "only showing top 20 rows\n",
      "\n"
     ]
    }
   ],
   "source": [
    "df2.show()"
   ]
  },
  {
   "cell_type": "code",
   "execution_count": null,
   "metadata": {},
   "outputs": [],
   "source": []
  },
  {
   "cell_type": "code",
   "execution_count": null,
   "metadata": {},
   "outputs": [],
   "source": []
  }
 ],
 "metadata": {
  "kernelspec": {
   "display_name": "Python 3",
   "language": "python",
   "name": "python3"
  },
  "language_info": {
   "codemirror_mode": {
    "name": "ipython",
    "version": 3
   },
   "file_extension": ".py",
   "mimetype": "text/x-python",
   "name": "python",
   "nbconvert_exporter": "python",
   "pygments_lexer": "ipython3",
   "version": "3.7.3"
  }
 },
 "nbformat": 4,
 "nbformat_minor": 4
}
